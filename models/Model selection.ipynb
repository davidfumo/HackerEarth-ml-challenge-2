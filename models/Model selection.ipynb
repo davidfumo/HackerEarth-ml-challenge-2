{
 "cells": [
  {
   "cell_type": "markdown",
   "metadata": {},
   "source": [
    "### This script is based on simple features derived from text variables. "
   ]
  },
  {
   "cell_type": "code",
   "execution_count": 223,
   "metadata": {
    "collapsed": true,
    "deletable": true,
    "editable": true
   },
   "outputs": [],
   "source": [
    "import pandas as pd\n",
    "import numpy as np\n",
    "from sklearn.naive_bayes import GaussianNB"
   ]
  },
  {
   "cell_type": "markdown",
   "metadata": {
    "deletable": true,
    "editable": true
   },
   "source": [
    "### load data"
   ]
  },
  {
   "cell_type": "code",
   "execution_count": 224,
   "metadata": {
    "collapsed": false,
    "deletable": true,
    "editable": true
   },
   "outputs": [],
   "source": [
    "train = pd.read_csv(\"../input/train.csv\")\n",
    "test = pd.read_csv(\"../input/test.csv\")"
   ]
  },
  {
   "cell_type": "code",
   "execution_count": 225,
   "metadata": {
    "collapsed": false,
    "deletable": true,
    "editable": true
   },
   "outputs": [
    {
     "name": "stdout",
     "output_type": "stream",
     "text": [
      "The train data has 108129 rows and 14 columns\n",
      "The test data has 63465 rows and 12 columns\n"
     ]
    }
   ],
   "source": [
    "print ('The train data has {} rows and {} columns'.format(train.shape[0],train.shape[1]))\n",
    "print ('The test data has {} rows and {} columns'.format(test.shape[0],test.shape[1]))"
   ]
  },
  {
   "cell_type": "code",
   "execution_count": 254,
   "metadata": {
    "collapsed": false
   },
   "outputs": [
    {
     "data": {
      "text/html": [
       "<div>\n",
       "<table border=\"1\" class=\"dataframe\">\n",
       "  <thead>\n",
       "    <tr style=\"text-align: right;\">\n",
       "      <th></th>\n",
       "      <th>project_id</th>\n",
       "      <th>name</th>\n",
       "      <th>desc</th>\n",
       "      <th>goal</th>\n",
       "      <th>keywords</th>\n",
       "      <th>disable_communication</th>\n",
       "      <th>country</th>\n",
       "      <th>currency</th>\n",
       "      <th>deadline</th>\n",
       "      <th>state_changed_at</th>\n",
       "      <th>created_at</th>\n",
       "      <th>launched_at</th>\n",
       "      <th>backers_count</th>\n",
       "      <th>final_status</th>\n",
       "      <th>name_len</th>\n",
       "      <th>name_count</th>\n",
       "      <th>desc_len</th>\n",
       "      <th>desc_count</th>\n",
       "      <th>keywords_len</th>\n",
       "      <th>keywords_count</th>\n",
       "    </tr>\n",
       "  </thead>\n",
       "  <tbody>\n",
       "    <tr>\n",
       "      <th>0</th>\n",
       "      <td>kkst1451568084</td>\n",
       "      <td>drawing for dollars</td>\n",
       "      <td>I like drawing pictures. and then i color them...</td>\n",
       "      <td>20.0</td>\n",
       "      <td>drawing-for-dollars</td>\n",
       "      <td>0</td>\n",
       "      <td>20</td>\n",
       "      <td>USD</td>\n",
       "      <td>Sun May  3 02:59:59 2009</td>\n",
       "      <td>Sun May  3 03:00:17 2009</td>\n",
       "      <td>Fri Apr 24 15:15:07 2009</td>\n",
       "      <td>Fri Apr 24 15:52:03 2009</td>\n",
       "      <td>3</td>\n",
       "      <td>1</td>\n",
       "      <td>19</td>\n",
       "      <td>3</td>\n",
       "      <td>134</td>\n",
       "      <td>26</td>\n",
       "      <td>19</td>\n",
       "      <td>3</td>\n",
       "    </tr>\n",
       "    <tr>\n",
       "      <th>1</th>\n",
       "      <td>kkst1474482071</td>\n",
       "      <td>Sponsor Dereck Blackburn (Lostwars) Artist in ...</td>\n",
       "      <td>I, Dereck Blackburn will be taking upon an inc...</td>\n",
       "      <td>300.0</td>\n",
       "      <td>sponsor-dereck-blackburn-lostwars-artist-in-re...</td>\n",
       "      <td>0</td>\n",
       "      <td>20</td>\n",
       "      <td>USD</td>\n",
       "      <td>Fri May 15 19:10:00 2009</td>\n",
       "      <td>Fri May 15 20:00:18 2009</td>\n",
       "      <td>Tue Apr 28 19:10:24 2009</td>\n",
       "      <td>Tue Apr 28 23:26:32 2009</td>\n",
       "      <td>2</td>\n",
       "      <td>0</td>\n",
       "      <td>76</td>\n",
       "      <td>10</td>\n",
       "      <td>137</td>\n",
       "      <td>25</td>\n",
       "      <td>74</td>\n",
       "      <td>10</td>\n",
       "    </tr>\n",
       "    <tr>\n",
       "      <th>2</th>\n",
       "      <td>kkst183622197</td>\n",
       "      <td>Mr. Squiggles</td>\n",
       "      <td>So I saw darkpony's successfully funded drawin...</td>\n",
       "      <td>30.0</td>\n",
       "      <td>mr-squiggles</td>\n",
       "      <td>0</td>\n",
       "      <td>20</td>\n",
       "      <td>USD</td>\n",
       "      <td>Fri May 22 17:26:00 2009</td>\n",
       "      <td>Fri May 22 17:30:18 2009</td>\n",
       "      <td>Tue May 12 17:26:53 2009</td>\n",
       "      <td>Tue May 12 17:39:58 2009</td>\n",
       "      <td>0</td>\n",
       "      <td>0</td>\n",
       "      <td>13</td>\n",
       "      <td>2</td>\n",
       "      <td>385</td>\n",
       "      <td>22</td>\n",
       "      <td>12</td>\n",
       "      <td>2</td>\n",
       "    </tr>\n",
       "    <tr>\n",
       "      <th>3</th>\n",
       "      <td>kkst597742710</td>\n",
       "      <td>Help me write my second novel.</td>\n",
       "      <td>Do your part to help out starving artists and ...</td>\n",
       "      <td>500.0</td>\n",
       "      <td>help-me-write-my-second-novel</td>\n",
       "      <td>0</td>\n",
       "      <td>20</td>\n",
       "      <td>USD</td>\n",
       "      <td>Thu May 28 20:09:00 2009</td>\n",
       "      <td>Thu May 28 20:15:21 2009</td>\n",
       "      <td>Tue Apr 28 20:09:55 2009</td>\n",
       "      <td>Tue Apr 28 20:58:50 2009</td>\n",
       "      <td>18</td>\n",
       "      <td>1</td>\n",
       "      <td>30</td>\n",
       "      <td>6</td>\n",
       "      <td>131</td>\n",
       "      <td>23</td>\n",
       "      <td>29</td>\n",
       "      <td>6</td>\n",
       "    </tr>\n",
       "    <tr>\n",
       "      <th>4</th>\n",
       "      <td>kkst1913131122</td>\n",
       "      <td>Support casting my sculpture in bronze</td>\n",
       "      <td>I'm nearing completion on a sculpture, current...</td>\n",
       "      <td>2000.0</td>\n",
       "      <td>support-casting-my-sculpture-in-bronze</td>\n",
       "      <td>0</td>\n",
       "      <td>20</td>\n",
       "      <td>USD</td>\n",
       "      <td>Sun May 31 07:38:00 2009</td>\n",
       "      <td>Sun May 31 07:45:17 2009</td>\n",
       "      <td>Fri May  1 07:38:34 2009</td>\n",
       "      <td>Fri May  1 08:22:21 2009</td>\n",
       "      <td>1</td>\n",
       "      <td>0</td>\n",
       "      <td>38</td>\n",
       "      <td>6</td>\n",
       "      <td>384</td>\n",
       "      <td>18</td>\n",
       "      <td>38</td>\n",
       "      <td>6</td>\n",
       "    </tr>\n",
       "  </tbody>\n",
       "</table>\n",
       "</div>"
      ],
      "text/plain": [
       "       project_id                                               name  \\\n",
       "0  kkst1451568084                                drawing for dollars   \n",
       "1  kkst1474482071  Sponsor Dereck Blackburn (Lostwars) Artist in ...   \n",
       "2   kkst183622197                                      Mr. Squiggles   \n",
       "3   kkst597742710                     Help me write my second novel.   \n",
       "4  kkst1913131122             Support casting my sculpture in bronze   \n",
       "\n",
       "                                                desc    goal  \\\n",
       "0  I like drawing pictures. and then i color them...    20.0   \n",
       "1  I, Dereck Blackburn will be taking upon an inc...   300.0   \n",
       "2  So I saw darkpony's successfully funded drawin...    30.0   \n",
       "3  Do your part to help out starving artists and ...   500.0   \n",
       "4  I'm nearing completion on a sculpture, current...  2000.0   \n",
       "\n",
       "                                            keywords  disable_communication  \\\n",
       "0                                drawing-for-dollars                      0   \n",
       "1  sponsor-dereck-blackburn-lostwars-artist-in-re...                      0   \n",
       "2                                       mr-squiggles                      0   \n",
       "3                      help-me-write-my-second-novel                      0   \n",
       "4             support-casting-my-sculpture-in-bronze                      0   \n",
       "\n",
       "   country currency                  deadline          state_changed_at  \\\n",
       "0       20      USD  Sun May  3 02:59:59 2009  Sun May  3 03:00:17 2009   \n",
       "1       20      USD  Fri May 15 19:10:00 2009  Fri May 15 20:00:18 2009   \n",
       "2       20      USD  Fri May 22 17:26:00 2009  Fri May 22 17:30:18 2009   \n",
       "3       20      USD  Thu May 28 20:09:00 2009  Thu May 28 20:15:21 2009   \n",
       "4       20      USD  Sun May 31 07:38:00 2009  Sun May 31 07:45:17 2009   \n",
       "\n",
       "                 created_at               launched_at  backers_count  \\\n",
       "0  Fri Apr 24 15:15:07 2009  Fri Apr 24 15:52:03 2009              3   \n",
       "1  Tue Apr 28 19:10:24 2009  Tue Apr 28 23:26:32 2009              2   \n",
       "2  Tue May 12 17:26:53 2009  Tue May 12 17:39:58 2009              0   \n",
       "3  Tue Apr 28 20:09:55 2009  Tue Apr 28 20:58:50 2009             18   \n",
       "4  Fri May  1 07:38:34 2009  Fri May  1 08:22:21 2009              1   \n",
       "\n",
       "   final_status  name_len  name_count  desc_len  desc_count  keywords_len  \\\n",
       "0             1        19           3       134          26            19   \n",
       "1             0        76          10       137          25            74   \n",
       "2             0        13           2       385          22            12   \n",
       "3             1        30           6       131          23            29   \n",
       "4             0        38           6       384          18            38   \n",
       "\n",
       "   keywords_count  \n",
       "0               3  \n",
       "1              10  \n",
       "2               2  \n",
       "3               6  \n",
       "4               6  "
      ]
     },
     "execution_count": 254,
     "metadata": {},
     "output_type": "execute_result"
    }
   ],
   "source": [
    "train.head()"
   ]
  },
  {
   "cell_type": "markdown",
   "metadata": {
    "deletable": true,
    "editable": true
   },
   "source": [
    "### convert time to unix format"
   ]
  },
  {
   "cell_type": "code",
   "execution_count": 226,
   "metadata": {
    "collapsed": true,
    "deletable": true,
    "editable": true
   },
   "outputs": [],
   "source": [
    "import time\n",
    "\n",
    "unix_cols = ['deadline','state_changed_at','launched_at','created_at']\n",
    "\n",
    "for x in unix_cols:\n",
    "    train[x] = train[x].apply(lambda k: time.ctime(k))\n",
    "    test[x] = test[x].apply(lambda k: time.ctime(k))"
   ]
  },
  {
   "cell_type": "markdown",
   "metadata": {
    "deletable": true,
    "editable": true
   },
   "source": [
    "### create simple features"
   ]
  },
  {
   "cell_type": "code",
   "execution_count": 227,
   "metadata": {
    "collapsed": false,
    "deletable": true,
    "editable": true
   },
   "outputs": [],
   "source": [
    "cols_to_use = ['name','desc']\n",
    "len_feats = ['name_len','desc_len']\n",
    "count_feats = ['name_count','desc_count']\n",
    "\n",
    "for i in np.arange(2):\n",
    "    train[len_feats[i]] = train[cols_to_use[i]].apply(str).apply(len)\n",
    "    train[count_feats[i]] = train[cols_to_use[i]].apply(str).apply(lambda x: len(x.split(' ')))"
   ]
  },
  {
   "cell_type": "code",
   "execution_count": 228,
   "metadata": {
    "collapsed": true,
    "deletable": true,
    "editable": true
   },
   "outputs": [],
   "source": [
    "train['keywords_len'] = train['keywords'].apply(str).apply(len)\n",
    "train['keywords_count'] = train['keywords'].apply(str).apply(lambda x: len(x.split('-')))"
   ]
  },
  {
   "cell_type": "code",
   "execution_count": 229,
   "metadata": {
    "collapsed": false
   },
   "outputs": [],
   "source": [
    "for i in np.arange(2):\n",
    "    test[len_feats[i]] = test[cols_to_use[i]].apply(str).apply(len)\n",
    "    test[count_feats[i]] = test[cols_to_use[i]].apply(str).apply(lambda x: len(x.split(' ')))\n",
    "    \n",
    "test['keywords_len'] = test['keywords'].apply(str).apply(len)\n",
    "test['keywords_count'] = test['keywords'].apply(str).apply(lambda x: len(x.split('-')))"
   ]
  },
  {
   "cell_type": "markdown",
   "metadata": {
    "deletable": true,
    "editable": true
   },
   "source": [
    "### encoding features"
   ]
  },
  {
   "cell_type": "code",
   "execution_count": 230,
   "metadata": {
    "collapsed": false,
    "deletable": true,
    "editable": true
   },
   "outputs": [],
   "source": [
    "from sklearn.preprocessing import LabelEncoder\n",
    "\n",
    "feat = ['disable_communication','country']\n",
    "for x in feat:\n",
    "    le = LabelEncoder()\n",
    "    le.fit(list(train[x].values) + list(test[x].values))\n",
    "    train[x] = le.transform(list(train[x]))\n",
    "    test[x] = le.transform(list(test[x].values))\n",
    "    "
   ]
  },
  {
   "cell_type": "markdown",
   "metadata": {},
   "source": [
    "### model training"
   ]
  },
  {
   "cell_type": "code",
   "execution_count": 231,
   "metadata": {
    "collapsed": false
   },
   "outputs": [],
   "source": [
    "cols_to_use = ['name_len'\n",
    "                 ,'desc_len'\n",
    "                 ,'keywords_len'\n",
    "                 ,'name_count'\n",
    "                 ,'desc_count'\n",
    "                 ,'keywords_count']\n",
    "\n",
    "target = train['final_status']\n",
    "\n",
    "# data for modeling\n",
    "k_train = train[cols_to_use]\n",
    "k_test = test[cols_to_use]"
   ]
  },
  {
   "cell_type": "markdown",
   "metadata": {},
   "source": [
    "### naive bayes"
   ]
  },
  {
   "cell_type": "code",
   "execution_count": 232,
   "metadata": {
    "collapsed": true
   },
   "outputs": [],
   "source": [
    "gnb = GaussianNB()\n",
    "\n",
    "nvb_pred = gnb.fit(k_train, target).predict(k_test)"
   ]
  },
  {
   "cell_type": "code",
   "execution_count": 233,
   "metadata": {
    "collapsed": true
   },
   "outputs": [],
   "source": [
    "gb = GradientBoostingClassifier()\n",
    "\n",
    "gb.fit(k_train, target)\n",
    "\n",
    "gb_pred = gb.predict(k_test)"
   ]
  },
  {
   "cell_type": "code",
   "execution_count": 234,
   "metadata": {
    "collapsed": true
   },
   "outputs": [],
   "source": [
    "# Voting classifier\n",
    "vc = VotingClassifier(estimators=[\n",
    "    ('XGB 200', xgb.XGBClassifier(n_estimators=200)),\n",
    "    ('XGB 200', xgb.XGBClassifier(n_estimators=300, max_depth=4)),\n",
    "    ('XGB 200', xgb.XGBClassifier(n_estimators=300, max_depth=7)),\n",
    "    #('Dtree', DecisionTreeClassifier()),\n",
    "    #('LD', LinearDiscriminantAnalysis()),\n",
    "    ('Logistic Reg', LogisticRegression()),\n",
    "    ('KNN', KNeighborsClassifier()),\n",
    "])\n",
    "\n",
    "vc.fit(k_train, target)\n",
    "\n",
    "vc_pred = vc.predict(k_test)\n",
    "\n",
    "# logistic regression\n",
    "lreg.fit(k_train, target)\n",
    "\n",
    "lreg_pred = lreg.predict(k_test)"
   ]
  },
  {
   "cell_type": "code",
   "execution_count": 235,
   "metadata": {
    "collapsed": true
   },
   "outputs": [],
   "source": [
    "train_cp = k_train.copy()\n",
    "test_cp = k_test.copy()"
   ]
  },
  {
   "cell_type": "code",
   "execution_count": 236,
   "metadata": {
    "collapsed": false
   },
   "outputs": [],
   "source": [
    "train_cp['pred_1'] = gb.predict(k_train)\n",
    "test_cp['pred_1'] =  gb_pred\n",
    "\n",
    "train_cp['pred_2'] = vc.predict(k_train)\n",
    "test_cp['pred_2'] =  vc_pred\n",
    "\n",
    "train_cp['pred_3'] = lreg.predict(k_train)\n",
    "test_cp['pred_3'] =  lreg_pred"
   ]
  },
  {
   "cell_type": "code",
   "execution_count": 239,
   "metadata": {
    "collapsed": false
   },
   "outputs": [
    {
     "data": {
      "text/plain": [
       "(108129, 9)"
      ]
     },
     "execution_count": 239,
     "metadata": {},
     "output_type": "execute_result"
    }
   ],
   "source": [
    "train_cp.shape"
   ]
  },
  {
   "cell_type": "code",
   "execution_count": 238,
   "metadata": {
    "collapsed": false
   },
   "outputs": [
    {
     "data": {
      "text/plain": [
       "(63465, 9)"
      ]
     },
     "execution_count": 238,
     "metadata": {},
     "output_type": "execute_result"
    }
   ],
   "source": [
    "test_cp.shape"
   ]
  },
  {
   "cell_type": "markdown",
   "metadata": {},
   "source": [
    "### Stacking"
   ]
  },
  {
   "cell_type": "code",
   "execution_count": 240,
   "metadata": {
    "collapsed": false
   },
   "outputs": [],
   "source": [
    "gb_st = GradientBoostingClassifier()\n",
    "\n",
    "gb_st.fit(train_cp, target)\n",
    "\n",
    "gb_pred2 = gb_st.predict(test_cp)"
   ]
  },
  {
   "cell_type": "markdown",
   "metadata": {},
   "source": [
    "### write the file"
   ]
  },
  {
   "cell_type": "code",
   "execution_count": 242,
   "metadata": {
    "collapsed": true
   },
   "outputs": [],
   "source": [
    "nBsub = pd.DataFrame({'project_id':test['project_id'],'final_status':gb_pred2})\n",
    "nBsub = nBsub[['project_id','final_status']]\n",
    "nBsub.to_csv(\"../output/stack_starter.csv\",index = False)"
   ]
  },
  {
   "cell_type": "markdown",
   "metadata": {},
   "source": [
    "# XGBboost"
   ]
  },
  {
   "cell_type": "code",
   "execution_count": 144,
   "metadata": {
    "collapsed": false
   },
   "outputs": [],
   "source": [
    "import xgboost as xgb"
   ]
  },
  {
   "cell_type": "code",
   "execution_count": 171,
   "metadata": {
    "collapsed": true
   },
   "outputs": [],
   "source": [
    "def runXGB(train_X, train_y, test_X, test_y=None, feature_names=None, seed_val=50, num_rounds=50):\n",
    "    param = {}\n",
    "    param['objective'] = 'binary:logistic'\n",
    "    param['eta'] = 0.01\n",
    "    param['max_depth'] = 4\n",
    "    #param['silent'] = 1\n",
    "    #param['eval_metric'] = \"accuracy\"\n",
    "    param['min_child_weight'] = 1\n",
    "    param['subsample'] = 0.9\n",
    "    param['colsample_bytree'] = 0.9\n",
    "    param['seed'] = seed_val\n",
    "    num_rounds = num_rounds\n",
    "\n",
    "    plst = list(param.items())\n",
    "    xgtrain = xgb.DMatrix(train_X, label=train_y)\n",
    "\n",
    "    if test_y is not None:\n",
    "        xgtest = xgb.DMatrix(test_X, label=test_y)\n",
    "        watchlist = [ (xgtrain,'train'), (xgtest, 'test') ]\n",
    "        model = xgb.train(plst, xgtrain, num_rounds, watchlist, early_stopping_rounds=20)\n",
    "    else:\n",
    "        xgtest = xgb.DMatrix(test_X)\n",
    "        model = xgb.train(plst, xgtrain, num_rounds)\n",
    "\n",
    "    pred_test_y = model.predict(xgtest, ntree_limit=model.best_ntree_limit)\n",
    "    return pred_test_y, model"
   ]
  },
  {
   "cell_type": "code",
   "execution_count": 172,
   "metadata": {
    "collapsed": false
   },
   "outputs": [
    {
     "name": "stdout",
     "output_type": "stream",
     "text": [
      "[0]\ttrain-error:0.317989\ttest-error:0.325904\n",
      "Multiple eval metrics have been passed: 'test-error' will be used for early stopping.\n",
      "\n",
      "Will train until test-error hasn't improved in 20 rounds.\n",
      "[1]\ttrain-error:0.318047\ttest-error:0.32595\n",
      "[2]\ttrain-error:0.318047\ttest-error:0.32595\n",
      "[3]\ttrain-error:0.318047\ttest-error:0.32595\n",
      "[4]\ttrain-error:0.318047\ttest-error:0.32595\n",
      "[5]\ttrain-error:0.318047\ttest-error:0.32595\n",
      "[6]\ttrain-error:0.318047\ttest-error:0.32595\n",
      "[7]\ttrain-error:0.318047\ttest-error:0.32595\n",
      "[8]\ttrain-error:0.318047\ttest-error:0.32595\n",
      "[9]\ttrain-error:0.318047\ttest-error:0.32595\n",
      "[10]\ttrain-error:0.318047\ttest-error:0.32595\n",
      "[11]\ttrain-error:0.318047\ttest-error:0.32595\n",
      "[12]\ttrain-error:0.318047\ttest-error:0.32595\n",
      "[13]\ttrain-error:0.318047\ttest-error:0.32595\n",
      "[14]\ttrain-error:0.318047\ttest-error:0.32595\n",
      "[15]\ttrain-error:0.318047\ttest-error:0.32595\n",
      "[16]\ttrain-error:0.318047\ttest-error:0.32595\n",
      "[17]\ttrain-error:0.318047\ttest-error:0.32595\n",
      "[18]\ttrain-error:0.318047\ttest-error:0.32595\n",
      "[19]\ttrain-error:0.318047\ttest-error:0.32595\n",
      "[20]\ttrain-error:0.318047\ttest-error:0.32595\n",
      "Stopping. Best iteration:\n",
      "[0]\ttrain-error:0.317989\ttest-error:0.325904\n",
      "\n",
      "[0.69180987154501483]\n"
     ]
    }
   ],
   "source": [
    "from sklearn import model_selection, preprocessing, ensemble\n",
    "from sklearn.metrics import accuracy_score, log_loss\n",
    "\n",
    "train_X = k_train.values\n",
    "train_y = target.values\n",
    "\n",
    "cv_scores = []\n",
    "kf = model_selection.KFold(n_splits=5, shuffle=True, random_state=2016)\n",
    "for dev_index, val_index in kf.split(range(train_X.shape[0])):\n",
    "        dev_X, val_X = train_X[dev_index,:], train_X[val_index,:]\n",
    "        dev_y, val_y = train_y[dev_index], train_y[val_index]\n",
    "        preds, model = runXGB(dev_X, dev_y, val_X, val_y)\n",
    "        cv_scores.append(log_loss(val_y, preds))\n",
    "        print(cv_scores)\n",
    "        break"
   ]
  },
  {
   "cell_type": "markdown",
   "metadata": {},
   "source": [
    "# Multiple Classifiers Showdown"
   ]
  },
  {
   "cell_type": "code",
   "execution_count": 151,
   "metadata": {
    "collapsed": true
   },
   "outputs": [],
   "source": [
    "from sklearn.cross_validation import StratifiedShuffleSplit"
   ]
  },
  {
   "cell_type": "code",
   "execution_count": 153,
   "metadata": {
    "collapsed": false
   },
   "outputs": [],
   "source": [
    "labels = target.values\n",
    "train = k_train.values\n",
    "\n",
    "sss = StratifiedShuffleSplit(labels, 10, test_size=0.2, random_state=23)\n",
    "\n",
    "for train_index, test_index in sss:\n",
    "    X_train, X_test = train[train_index], train[test_index]\n",
    "    y_train, y_test = labels[train_index], labels[test_index]"
   ]
  },
  {
   "cell_type": "code",
   "execution_count": 157,
   "metadata": {
    "collapsed": false
   },
   "outputs": [
    {
     "name": "stdout",
     "output_type": "stream",
     "text": [
      "==============================\n",
      "VotingClassifier\n",
      "****Results****\n",
      "Accuracy: 67.2478%\n",
      "Log Loss: 0.6287727864632118\n",
      "==============================\n",
      "LogisticRegression\n",
      "****Results****\n",
      "Accuracy: 68.0385%\n",
      "Log Loss: 0.6241566037366627\n",
      "==============================\n",
      "KNeighborsClassifier\n",
      "****Results****\n",
      "Accuracy: 60.3764%\n",
      "Log Loss: 4.563287552426007\n",
      "==============================\n",
      "DecisionTreeClassifier\n",
      "****Results****\n",
      "Accuracy: 58.1199%\n",
      "Log Loss: 13.582102419603162\n",
      "==============================\n",
      "RandomForestClassifier\n",
      "****Results****\n",
      "Accuracy: 61.9902%\n",
      "Log Loss: 1.9093889049989083\n",
      "==============================\n",
      "AdaBoostClassifier\n",
      "****Results****\n",
      "Accuracy: 68.0338%\n",
      "Log Loss: 0.6901507674224574\n",
      "==============================\n",
      "GradientBoostingClassifier\n",
      "****Results****\n",
      "Accuracy: 68.0292%\n",
      "Log Loss: 0.6178136694694528\n",
      "==============================\n",
      "XGBClassifier\n",
      "****Results****\n",
      "Accuracy: 68.0385%\n",
      "Log Loss: 0.6177700232532852\n",
      "==============================\n",
      "XGBClassifier\n",
      "****Results****\n",
      "Accuracy: 68.0385%\n",
      "Log Loss: 0.6701551839374409\n",
      "==============================\n",
      "GaussianNB\n",
      "****Results****\n",
      "Accuracy: 66.4478%\n",
      "Log Loss: 0.642799076935415\n",
      "==============================\n",
      "LinearDiscriminantAnalysis\n",
      "****Results****\n",
      "Accuracy: 68.0385%\n",
      "Log Loss: 0.6241741595377777\n",
      "==============================\n",
      "QuadraticDiscriminantAnalysis\n",
      "****Results****\n",
      "Accuracy: 67.2200%\n",
      "Log Loss: 0.6296576616776757\n",
      "==============================\n"
     ]
    }
   ],
   "source": [
    "from sklearn.metrics import accuracy_score, log_loss\n",
    "from sklearn.neighbors import KNeighborsClassifier\n",
    "from sklearn.svm import SVC, LinearSVC, NuSVC\n",
    "from sklearn.tree import DecisionTreeClassifier\n",
    "from sklearn.ensemble import RandomForestClassifier, AdaBoostClassifier, GradientBoostingClassifier, VotingClassifier\n",
    "from sklearn.naive_bayes import GaussianNB\n",
    "from sklearn.discriminant_analysis import LinearDiscriminantAnalysis\n",
    "from sklearn.discriminant_analysis import QuadraticDiscriminantAnalysis\n",
    "from sklearn.linear_model import LogisticRegression\n",
    "\n",
    "# SVC(kernel=\"rbf\", C=0.025, probability=True),\n",
    "#     NuSVC(probability=True),\n",
    "\n",
    "vc = VotingClassifier(estimators=[\n",
    "    ('GBM', GradientBoostingClassifier()),\n",
    "    ('XGB 200', xgb.XGBClassifier(n_estimators=200)),\n",
    "    ('Dtree', DecisionTreeClassifier()),\n",
    "    ('RF', RandomForestClassifier()),\n",
    "    ('LD', LinearDiscriminantAnalysis()),\n",
    "    ('QD', QuadraticDiscriminantAnalysis()),\n",
    "    ('Logistic Reg', LogisticRegression()),\n",
    "    ('KNN', KNeighborsClassifier()),\n",
    "    ('GNB', GaussianNB())\n",
    "]\n",
    ", voting='soft')\n",
    "\n",
    "classifiers = [\n",
    "    vc,\n",
    "    LogisticRegression(),\n",
    "    KNeighborsClassifier(3),\n",
    "    DecisionTreeClassifier(),\n",
    "    RandomForestClassifier(),\n",
    "    AdaBoostClassifier(),\n",
    "    GradientBoostingClassifier(),\n",
    "    xgb.XGBClassifier(n_estimators=100),\n",
    "    xgb.XGBClassifier(n_estimators=20, max_depth=4, colsample_bytree=0.9, subsample=0.9, learning_rate=0.01),\n",
    "    GaussianNB(),\n",
    "    LinearDiscriminantAnalysis(),\n",
    "    QuadraticDiscriminantAnalysis()]\n",
    "\n",
    "# Logging for Visual Comparison\n",
    "log_cols=[\"Classifier\", \"Accuracy\", \"Log Loss\"]\n",
    "log = pd.DataFrame(columns=log_cols)\n",
    "\n",
    "for clf in classifiers:\n",
    "    clf.fit(X_train, y_train)\n",
    "    name = clf.__class__.__name__\n",
    "    \n",
    "    print(\"=\"*30)\n",
    "    print(name)\n",
    "    \n",
    "    print('****Results****')\n",
    "    train_predictions = clf.predict(X_test)\n",
    "    acc = accuracy_score(y_test, train_predictions)\n",
    "    print(\"Accuracy: {:.4%}\".format(acc))\n",
    "    \n",
    "    train_predictions = clf.predict_proba(X_test)\n",
    "    ll = log_loss(y_test, train_predictions)\n",
    "    print(\"Log Loss: {}\".format(ll))\n",
    "    \n",
    "    log_entry = pd.DataFrame([[name, acc*100, ll]], columns=log_cols)\n",
    "    log = log.append(log_entry)\n",
    "    \n",
    "print(\"=\"*30)"
   ]
  },
  {
   "cell_type": "code",
   "execution_count": 158,
   "metadata": {
    "collapsed": false
   },
   "outputs": [
    {
     "data": {
      "image/png": "[encoded data removed]",
      "text/plain": [
       "<matplotlib.figure.Figure at 0x7f95387724e0>"
      ]
     },
     "metadata": {},
     "output_type": "display_data"
    },
    {
     "data": {
      "image/png": "[encoded data removed]",
      "text/plain": [
       "<matplotlib.figure.Figure at 0x7f95442d8b70>"
      ]
     },
     "metadata": {},
     "output_type": "display_data"
    }
   ],
   "source": [
    "import matplotlib.pyplot as plt\n",
    "import seaborn as sns\n",
    "\n",
    "sns.set_color_codes(\"muted\")\n",
    "sns.barplot(x='Accuracy', y='Classifier', data=log, color=\"b\")\n",
    "\n",
    "plt.xlabel('Accuracy %')\n",
    "plt.title('Classifier Accuracy')\n",
    "plt.show()\n",
    "\n",
    "sns.set_color_codes(\"muted\")\n",
    "sns.barplot(x='Log Loss', y='Classifier', data=log, color=\"g\")\n",
    "\n",
    "plt.xlabel('Log Loss')\n",
    "plt.title('Classifier Log Loss')\n",
    "plt.show()"
   ]
  },
  {
   "cell_type": "markdown",
   "metadata": {},
   "source": [
    "# Cross Validation"
   ]
  },
  {
   "cell_type": "code",
   "execution_count": 243,
   "metadata": {
    "collapsed": true
   },
   "outputs": [],
   "source": [
    "clf = DecisionTreeClassifier()\n",
    "\n",
    "\n",
    "rf = RandomForestClassifier()\n",
    "\n",
    "knn = KNeighborsClassifier()\n",
    "\n",
    "lreg = LogisticRegression()\n",
    "\n",
    "vc = VotingClassifier(estimators=[\n",
    "    ('XGB 200', xgb.XGBClassifier(n_estimators=200)),\n",
    "    ('XGB 200', xgb.XGBClassifier(n_estimators=300, max_depth=4)),\n",
    "    ('XGB 200', xgb.XGBClassifier(n_estimators=300, max_depth=7)),\n",
    "    #('Dtree', DecisionTreeClassifier()),\n",
    "    #('LD', LinearDiscriminantAnalysis()),\n",
    "    ('Logistic Reg', LogisticRegression()),\n",
    "    ('KNN', KNeighborsClassifier()),\n",
    "])"
   ]
  },
  {
   "cell_type": "code",
   "execution_count": 246,
   "metadata": {
    "collapsed": true
   },
   "outputs": [],
   "source": [
    "from sklearn.model_selection import cross_val_score"
   ]
  },
  {
   "cell_type": "code",
   "execution_count": 250,
   "metadata": {
    "collapsed": true
   },
   "outputs": [],
   "source": [
    "gbm = GradientBoostingClassifier(n_estimators=250, max_depth=4, learning_rate=0.01, subsample=0.9, )"
   ]
  },
  {
   "cell_type": "code",
   "execution_count": 251,
   "metadata": {
    "collapsed": true
   },
   "outputs": [],
   "source": [
    "scores = cross_val_score(gbm, train_X, train_y, scoring='accuracy', cv=5)"
   ]
  },
  {
   "cell_type": "code",
   "execution_count": 252,
   "metadata": {
    "collapsed": false
   },
   "outputs": [
    {
     "data": {
      "text/plain": [
       "0.68037251814133237"
      ]
     },
     "execution_count": 252,
     "metadata": {},
     "output_type": "execute_result"
    }
   ],
   "source": [
    "scores.mean()"
   ]
  },
  {
   "cell_type": "code",
   "execution_count": null,
   "metadata": {
    "collapsed": true
   },
   "outputs": [],
   "source": []
  }
 ],
 "metadata": {
  "kernelspec": {
   "display_name": "Python 3",
   "language": "python",
   "name": "python3"
  },
  "language_info": {
   "codemirror_mode": {
    "name": "ipython",
    "version": 3
   },
   "file_extension": ".py",
   "mimetype": "text/x-python",
   "name": "python",
   "nbconvert_exporter": "python",
   "pygments_lexer": "ipython3",
   "version": "3.6.0"
  }
 },
 "nbformat": 4,
 "nbformat_minor": 2
}
